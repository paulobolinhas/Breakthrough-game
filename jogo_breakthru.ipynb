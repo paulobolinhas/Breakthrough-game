{
 "cells": [
  {
   "cell_type": "markdown",
   "metadata": {},
   "source": [
    "# <span style=\"color:blue\"> *Torneio AlfaBeta BreakThrough (Avanço)*</span>\n",
    "## Introdução à Inteligência Artificial (2022-23)\n",
    "### Projecto para avaliação\n",
    "\n",
    "<img src=\"./images/Picture0.png\" style=\"width: 180px;\"/>\n"
   ]
  },
  {
   "cell_type": "markdown",
   "metadata": {},
   "source": [
    "## Breakthrough \n",
    "\n",
    "[Dan Troyka](https://mancala.fandom.com/wiki/William_Daniel_Troyka) criou este jogo em 2000, ganhando o prémio para melhor jogo de tabuleiro 8x8 em 2001. É um jogo com regras bastante simples, mas que exige uma boa estratégia para ter sucesso. Podem experimentar o jogo [aqui](https://crypto.stanford.edu/~blynn/play/breakthrough.html).\n"
   ]
  },
  {
   "cell_type": "markdown",
   "metadata": {},
   "source": [
    "### Tabuleiro inicial\n",
    "Um tabuleiro quadrado 8x8, 16 peças brancas e 16 peças pretas.\n",
    "\n",
    "<img src=\"./images/Picture1.png\" style=\"width: 180px;\"/>\n",
    "\n",
    "### Objectivo\n",
    "Um jogador ganha se chegar com uma das suas peças à primeira linha do adversário, ou seja, as Brancas devem chegar à 8ª linha e as Pretas à 1ª linha do tabuleiro."
   ]
  },
  {
   "cell_type": "markdown",
   "metadata": {},
   "source": [
    "### Movimentos\n",
    "\n",
    "Cada jogador, alternadamente, move uma peça sua. Começam as Brancas.\n",
    "As peças movem-se sempre em frente, para uma casa vazia, seja na sua coluna ou numa das suas diagonais.\n",
    "\n",
    "No diagrama seguinte mostra-se para onde cada uma das peças se poderia movimentar se fosse a sua vez de jogar.\n",
    "\n",
    "<img src=\"./images/Picture2.png\" style=\"width: 180px;\"/>\n",
    "\n",
    "As peças podem capturar peças adversárias que se situem na sua diagonal em frente movendo-se para a casa onde elas se encontram (como os peões do Xadrez).\n",
    "\n",
    "As peças capturadas são removidas do tabuleiro. As capturas são opcionais e apenas se pode capturar uma peça por turno (ou seja, não há capturas múltiplas).\n",
    "\n",
    "No diagrama seguinte observa-se quais as peças pretas que poderiam ser capturadas pela peça branca (a peça branca não se pode mover para d6 porque a casa está ocupada, nem pode capturar essa peça preta, porque as capturas apenas se efetuam na diagonal.\n",
    "\n",
    "\n",
    "<img src=\"./images/Picture3.png\" style=\"width: 180px;\"/>\n",
    "\n",
    "As partidas deste jogo terminam rapidamente, porque as peças são obrigadas a mover-se sempre para a frente. Em cada turno, cada jogador tem pelo menos uma jogada possível (o adversário não consegue bloquear peças, assim, a peça mais avançada pode sempre deslocar-se). Deste modo, as partidas nunca terminam em empate.\n",
    "\n"
   ]
  },
  {
   "cell_type": "markdown",
   "metadata": {},
   "source": [
    "## Objectivos do projecto\n",
    "Pretende-se que os grupos de alunos:\n",
    "\n",
    "1. Implementem e testem uma formulação do jogo Breakthrough, segundo o framework aima-python. Neste jogo não há empates, e as brancas têm vantagem, devendo a formulação dos  jogadores ser adaptada a ambas as situações (jogar com brancas e jogar com pretas). \n",
    "<br><br>\n",
    "2. Criem e testem vários jogadores, que farão uso do algoritmo minimax variante alfabeta na sua versão com profundidade limitada. Cada um dos jogadores corresponde a uma função de avaliação a ser usada pelo algoritmo alfa-beta para qualquer profundidade, par ou ímpar. Desenvolvam e comparem o desempenho de vários jogadores, para diferentes limites de profundidade e depois seleccionem o melhor deles.\n",
    "<br><br>\n",
    "3. O jogador seleccionado será utilizados num campeonato de todos contra todos, i.e., o jogador de um grupo irá jogar contra todos os jogadores dos outros grupos, vários jogos e para diferentes níveis de profundidade, tando com brancas como com pretas. Nós próprios entraremos no campeonato com um jogador simples, o <span style=\"color:blue\"> ***Belarmino***</span>, que procura valorizar as suas peças mais avançadas."
   ]
  },
  {
   "cell_type": "markdown",
   "metadata": {},
   "source": [
    "### Formulação: A classe que representa um Jogo\n",
    "É obrigatório criarem uma classe **JogoBT_XX** que implementa o jogo, subclasse de **Game** e o respectico construtor **JogoBT_XX()**. Usem  <span style=\"color:magenta\"> ***JogoBT()***</span>, como indicado antes, para passar nos testes do quiz. \n",
    "\n",
    "Por exemplo, para o grupo 08, o tabuleiro inicial da figura, seria construído com:\n",
    "```python \n",
    "JogoBT_08()\n",
    "```\n",
    "<img src=\"./images/Picture1.png\" style=\"width: 180px;\"/>\n",
    "<p style=\"text-align: center;\">Tabuleiro Inicial\n",
    "\n",
    "O jogo deve incluir no estado <span style=\"color:green\"> ***o atributo **to_move** que é 1 para as peças brancas e 2 para as peças pretas***</span>, representando o próximo jogador a jogar.\n",
    "\n",
    "É preciso também que haja um atributo chamado **initial**, que após a construção do objecto **JogoBT_XX** construa e guarde o estado inicial do jogo.\n",
    "\n",
    "Precisamos de redefinir os métodos herdados de **Game**, tais como ***actions()*** e ***result()***.\n",
    "   "
   ]
  },
  {
   "cell_type": "markdown",
   "metadata": {},
   "source": [
    "### Movimentos das peças com nomes obrigatórios\n",
    "Para podermos realizar jogos levando em conta diferentes formulações e realizar o campeonato, precisamos de uniformizar a representação das acções:\n",
    "\n",
    "Cada jogada é identificada pelas coordenadas de origem e destino, identificadas como nos tabuleiros de Xadrez. Por exemplo, a jogada representada pela string **'h2-g3'** significa que a peça (necessariamente Branca) da posição **h2** se move para a posição **g3**. A jogada é assim representada independentemente de haver ou não uma peça preta na posição de destino. Se lá estiver uma peça preta ela é simplesmemte removida.\n",
    "\n",
    "<img src=\"./images/Picture5.png\" style=\"width: 180px;\"/>\n",
    "\n",
    "```python \n",
    "'h2-g3'\n",
    "```\n",
    "    \n",
    "A lista resultante do método **actions()** conterá apenas as acções **válidas** para um determinado estado, <span style=\"color:teal\"> ***ordenadas por ordem lexicográfica***</span>. A representação <span style=\"color:red\">**interna**</span> das jogadas na classe **JogoBT_XX** poderá ser <span style=\"color:red\">**diferente**</span>, mais adaptada à represetação interna do tabuleiro. Esta notação é apenas usada para uniformizar a comunicação com os vários jogadores, incluindo humanos. "
   ]
  },
  {
   "cell_type": "markdown",
   "metadata": {},
   "source": [
    "### Display\n",
    "É necessário que implementem um método ***display*** para cada situação do jogo, em ***JogoBT***. Usem o \"display\" habitual do jogo online para fazer a versão em texto. Exemplo para o tabuleiro inicial (ignorem as cores):\n",
    "\n",
    "```Python\n",
    ">>> jj = JogoBT()\n",
    ">>> jj.display(jj.initial)\n",
    "-----------------\n",
    "8|B B B B B B B B \n",
    "7|B B B B B B B B \n",
    "6|. . . . . . . . \n",
    "5|. . . . . . . . \n",
    "4|. . . . . . . . \n",
    "3|. . . . . . . . \n",
    "2|W W W W W W W W \n",
    "1|W W W W W W W W \n",
    "-+---------------\n",
    " |a b c d e f g h \n",
    "--NEXT PLAYER: W\n",
    "```\n"
   ]
  },
  {
   "cell_type": "markdown",
   "metadata": {},
   "source": [
    "## Exemplos de execução dos métodos de JogoBT:"
   ]
  },
  {
   "cell_type": "markdown",
   "metadata": {},
   "source": [
    "### Método display()\n",
    "\n",
    "```Python\n",
    "jj = JogoBT()\n",
    "jj.display(jj.initial)\n",
    "```\n",
    "\n",
    "resulta em (ignorem as cores)\n",
    "\n",
    "```Python\n",
    "-----------------\n",
    "8|B B B B B B B B\n",
    "7|B B B B B B B B\n",
    "6|. . . . . . . .\n",
    "5|. . . . . . . .\n",
    "4|. . . . . . . .\n",
    "3|. . . . . . . .\n",
    "2|W W W W W W W W\n",
    "1|W W W W W W W W\n",
    "-+---------------\n",
    " |a b c d e f g h\n",
    "--NEXT PLAYER: W\n",
    "```"
   ]
  },
  {
   "cell_type": "markdown",
   "metadata": {},
   "source": [
    "### Método actions(estado)\n",
    "\n",
    "```Python\n",
    "jj1 = JogoBT()\n",
    "s1= jj1.initial\n",
    "print(jj1.actions(s1))\n",
    "```\n",
    "\n",
    "imprime:\n",
    "```Python\n",
    "['a2-a3', 'a2-b3', 'b2-a3', 'b2-b3', 'b2-c3', 'c2-b3', 'c2-c3', 'c2-d3', 'd2-c3', 'd2-d3', 'd2-e3', 'e2-d3', 'e2-e3', 'e2-f3', 'f2-e3', 'f2-f3', 'f2-g3', 'g2-f3', 'g2-g3', 'g2-h3', 'h2-g3', 'h2-h3']\n",
    "```\n"
   ]
  },
  {
   "cell_type": "markdown",
   "metadata": {},
   "source": [
    "## Método executa(estado, lista_jogadas_válidas)\n",
    "A classe **JogoBT** deve incluir um método **executa** para executar sequências de jogadas, como aqui abaixo. Reparem que o estado (seja **s**) resultante da sequência é terminal e o método **terminal_test(s)** devolve True. No <span style=\"color:magenta\"> ***quiz para avaliação***</span> apresentamos uma versão deste método. Reparem que este é um bom sítio para examinarem os estados intermédios e fazerem uns **prints** e **displays** para ajudar a desenhar as estratégias e definirem as heurísticas (para além do debugging do código).\n",
    "\n",
    "```Python\n",
    "jj = JogoBT()\n",
    "s= jj.executa(jj.initial, ['f2-f3', 'e7-d6', 'd2-e3', 'd6-d5', 'b2-b3', 'd5-c4', \n",
    "'a2-a3', 'c4-b3', 'e3-d4', 'b3-c2', 'e1-f2', 'c2-d1'])\n",
    "jj.display(s)\n",
    "print(jj.terminal_test(s))\n",
    "```\n",
    "\n",
    "que imprime o seguinte:\n",
    "\n",
    "```Python\n",
    "-----------------\n",
    "8|B B B B B B B B\n",
    "7|B B B B . B B B\n",
    "6|. . . . . . . .\n",
    "5|. . . . . . . .\n",
    "4|. . . W . . . .\n",
    "3|W . . . . W . .\n",
    "2|. . . . W W W W\n",
    "1|W W W B . W W W\n",
    "-+---------------\n",
    " |a b c d e f g h\n",
    "True\n",
    "```"
   ]
  },
  {
   "cell_type": "markdown",
   "metadata": {},
   "source": [
    "## Jogadores\n",
    "Terão de criar funções de avaliação para os diferentes jogadores que fizerem e testarem. O vosso jogador deve chamar-se ```'jogadorBT_XX'```, com XX o número do vosso grupo, mas tenham em atenção que a função recebe dois argumentos: o estado e o papel como jogador (1 para Brancas, 2 para Pretas).\n",
    "\n",
    "### Nomes uniformes para os jogadores:\n",
    "Todas as funções de avaliação e especialmente as seleccionadas para serem utilizadas no torneio, terão que ter nomes uniformes, com a assinatura do grupo (XX substituído pelo número do grupo).\n",
    "\n",
    "***func_aval_XX(estado, jogador)***: que devolve o valor estimado do estado para o jogador (1 para W, 2 para B) do grupo XX. Mantemos a assinatura do ***alphabeta_cutoff_search_new()***. \n",
    "\n",
    "No torneio, os vossos jogadores jogarão várias partidas contra todos os outros incluindo o <span style=\"color:blue\"> ***Belarmino***</span>, quer como Brancas, quer como Pretas. Por isso testem o jogador em ambas as circunstâncias. A profundidade do ***alphabeta*** será igual para todos, mas haverá um tempo limite, igual para todos, para a execução de cada jogada, por isso vigiem a complexidade computacional da vossa heurística.\n",
    "\n"
   ]
  },
  {
   "cell_type": "markdown",
   "metadata": {},
   "source": [
    "## Jogar e ver o jogo\n",
    "Para testarem e compararem o desempenho dos vários jogadores que desenvolverem, e seleccionarem o melhor jogador, para participar no torneio entre todos os grupos, terão de adaptar os métodos do ficheiro **jogar.py**, que permitem realizar jogos e campeonatos entre vários jogadores. Convém que as vossas funções de avaliação se adaptem a diferentes níveis de profundidade para o alfabeta, que pode ser ímpar ou par, mas que não será muito elevado, porque é preciso que o torneio não demore uma eternidade.\n",
    "\n",
    "Convém também implementarem o <span style=\"color:blue\"> ***Belarmino***</span> e compararem o desempenho dos vossos jogadores com o nosso jogador. Quem igualar o desempenho do <span style=\"color:blue\"> ***Belarmino***</span> terá nota 10, é preciso fazer melhor para chegar ao 20. "
   ]
  },
  {
   "cell_type": "markdown",
   "metadata": {},
   "source": [
    "## Campeonato\n",
    "No torneio que vamos realizar, em formato de campeonato, todos os jogadores irão jogar contra todos os outros: cada um dos atacantes jogará contra todos os outros defensores, vários jogos, para pelo menois dois limites diferentes de profundidade para o alfabeta.\n",
    "\n",
    "A decisão da jogada escolhida pelos jogadores depende de uma função de avaliação adaptada à implementação do estado do jogo para cada grupo.\n",
    "\n",
    "Não podemos esquecer que além dos jogadores dos vários grupos, teremos a participação do <span style=\"color:blue\"> ***Belarmino***</span>.\n",
    "\n",
    "\n",
    "### Pontuação de cada grupo\n",
    "Notem que o ranking do campeonato é calculado com base na pontuação final de cada grupo, que corresponde ao\n",
    "\n",
    "**número de vitórias de cada jogador como brancas somado ao número de vitórias como pretas**.\n",
    "\n",
    "\n",
    "**Jogadas inválidas ou timeout:** No caso de um dos jogadores ultrapassar o tempo limite para uma jogada ou devolver uma jogada inválida, o jogador perde o jogo. Usaremos de bom senso na escolha do tempo limite para seleccionar uma jogada. "
   ]
  },
  {
   "cell_type": "markdown",
   "metadata": {},
   "source": [
    "## Código a não ser alterado\n",
    "<span style=\"color:red\"> Não alterem</span> **jogos.py** nem **utils.py** e **não os devem submeter!** Iremos correr os mesmos 2 ficheiros para todos. <span style=\"color:red\"> Não alterem</span> também o **jogar.py**. \n",
    "Também <span style=\"color:red\"> não alterem</span> as assinaturas dos métodos da classe **Game**, que a classe **JogoBT_XX**, sendo subclasse de **Game**, tem de respeitar!\n",
    "<br><span style=\"color:red\">Não redefinam</span> funções com o mesmo nome das já existentes em **jogos.py** e **utils.py**.\n",
    "<br>O ideal é que <span style=\"color:red\"> todas as vossas funções devem estar etiquetadas com a assinatura do grupo: o sufixo _XX, para que não se partilhe nem se sobreponha código.</span>"
   ]
  },
  {
   "cell_type": "markdown",
   "metadata": {},
   "source": [
    "## Material de apoio\n",
    "No **zip** com a descrição do projecto, têm, alêm deste notebook, os ficheiros de utilidades e classe Game <span style=\"color:green\">**utils.py**</span> e <span style=\"color:green\">**jogos.py**</span>, que não devem ser alterados. Têm o ficheiro <span style=\"color:green\">**jogar.py**</span> que não deve ser alterado, e contém ferramentas de apoio à exploração do vosso jogo, classes e métodos para fazer jogadores, jogos um contra um e **n** contra **n** e campeonatos. Têm ainda um método para visualizar o resultado de um jogo, o que vos pode ser útil para entender e melhorar o comportamento das vossas heurísticas. Para uma visão mais global das tarefas que vos cabem, têm ainda o notebook com o enunciado do jogo **Rastros**, usado há alguns anos, e o ficheiro <span style=\"color:green\">**rastros.py**</span>, contendo uma possível formulação para esse jogo. "
   ]
  },
  {
   "cell_type": "markdown",
   "metadata": {},
   "source": [
    "## Relatório\n",
    "O  relatório é <span style=\"color:red\"> **OBRIGATÓRIO**</span> e tem de ser feito em Jupiter Notebook. Qualquer trabalho que não tenha relatório (só o código com ou sem comentários) ou que não seja lido pelo Jupiter Notebook tem nota zero.\n",
    "\n",
    "Nesse relatório irão descrever e demonstrar o que fizeram, explicar a lógica da heurística que escolheram para o jogador com que entram no campeonato.\n",
    "\n",
    "Nós fornecemos um ficheiro esqueleto, ***IIA2223-proj-XX.ipynb***, (substituam XX pelo número do grupo). Não se esqueçam de preencher os nomes e números dos elementos do vosso grupo."
   ]
  },
  {
   "cell_type": "markdown",
   "metadata": {},
   "source": [
    "## Avaliação\n",
    "A nota do vosso projecto depende das 3 componentes seguintes (40%+20%+40%): \n",
    "\n",
    "**Formulação**: Representação da classe **JogoBT_XX** + testes que demonstram o seu correcto funcionamento. Estes testes devem ser executados no **CodeRunner** (quiz no Moodle).\n",
    "\n",
    "**Funções de avaliação, selecção e teste**: Descrição das funções de avaliação desenvolvidas, testes dessas funções, jogos/campeonatos entre os vários jogadores e descrição do processo de selecção do melhor jogador.\n",
    "   \n",
    "**Torneio**: No torneio, em formato campeonato, vamos incluir o nosso jogador <span style=\"color:blue\"> ***Belarmino***</span>, cuja função de avaliação valoriza ter as peças o mais avançadas possível em direcção ao objectivo. Por exemplo, para as Brancas, um tabuleiro vale $\\sum_{i=1}^8{i^i*count(B_i)}$, onde $count(B_i)$ conta o número de peças Brancas na linha $i$. Quem tiver a mesma pontuação total do torneio que o <span style=\"color:blue\"> ***Belarmino***</span> terá 10 valores. Quem tiver um score total inferior ao nosso jogador terá, naturalmente, negativa (nota menor do que 10) nesta componente. Em suma, o score do campeonato é a soma das pontuações como atacante menos a soma das pontuações como defensor e quanto maior melhor. A nota correspondente ao campeonato é uma função linear baseada no ranking no campenato, tanto acima do <span style=\"color:blue\"> ***Belarmino***</span> como para baixo. O grupo que ficar em primeiro lugar acima do <span style=\"color:blue\"> ***Belarmino***</span> terá 20 valores. (30% para esta componente)."
   ]
  },
  {
   "cell_type": "markdown",
   "metadata": {},
   "source": [
    "## <span style=\"color:orange\"> **ENTREGA**</span>\n",
    "### <span style=\"color:orange\"> **1- Quiz em codeRunner**</span>\n",
    "Devem dentro do prazo executar o Quiz no moodle da cadeira: (https://moodle.ciencias.ulisboa.pt/mod/quiz/view.php?id=202708), onde o vosso código será avaliado automaticamente, com testes visíveis e misteriosos testes escondidos. Apenas <span style=\"color:teal\"> ***UM DOS ALUNOS DO GRUPO***</span> deve fazer isto.\n",
    "\n",
    "### <span style=\"color:orange\"> **2- Ficheiros**</span> \n",
    "Devem entregar um ficheiro ***IIA2223-proj-XX.zip***, correspondente ao zip da pasta com 3 ficheiros, onde XX é o vosso número de grupo:\n",
    "\n",
    "***IIA2223-proj-tudo-XX.py:*** terá todo o código desenvolvido. Não se esqueçam de <span style=\"color:teal\"> ***identificar os alunos, com número e nome***</span> em comentário, logo no princípio do ficheiro.\n",
    "\n",
    "***IIA2223-proj-jog-XX.py:*** deve ter a função **func_aval_XX()** que nós vamos executar no torneio (incluindo eventuais funções auxiliares). <span style=\"color:orange\">Este ficheiro deve ter também a classe **JogoBT_XX()** incluindo os métodos e classes necessárias à execução do jogo, incluindo a vossa representação do estado.</span> Não se esqueçam de <span style=\"color:teal\"> ***identificar os alunos, com número e nome***</span> em comentário, logo no princípio do ficheiro.\n",
    "\n",
    "***IIA2223-proj-XX.ipynb:*** o relatório. Não se esqueçam de <span style=\"color:teal\"> ***identificar os alunos, com número e nome***</span>."
   ]
  },
  {
   "cell_type": "markdown",
   "metadata": {},
   "source": [
    "## <span style=\"color:red\"> PRAZO</span> \n",
    "\n",
    "<img src=\".\\images\\guilhotina_widelg.png\" alt=\"Drawing\" style=\"width: 450px;\"/>\n",
    "\n",
    "Até ao dia **28 de Novembro** às 11:59\n",
    "\n",
    "### <span style=\"color:red\"> Graves Penalizações </span>  \n",
    "    - Entregue nas 3hs seguintes: sem penalização\n",
    "    - A partir das 3h até às 12h do dia seguinte: 20% de penalização\n",
    "    - Não é aceite a partir das 12h do dia seguinte."
   ]
  }
 ],
 "metadata": {
  "colab": {
   "collapsed_sections": [],
   "name": "Untitled0.ipynb",
   "provenance": [],
   "version": "0.3.2"
  },
  "kernelspec": {
   "display_name": "Python 3.10.8 64-bit (microsoft store)",
   "language": "python",
   "name": "python3"
  },
  "language_info": {
   "codemirror_mode": {
    "name": "ipython",
    "version": 3
   },
   "file_extension": ".py",
   "mimetype": "text/x-python",
   "name": "python",
   "nbconvert_exporter": "python",
   "pygments_lexer": "ipython3",
   "version": "3.10.8"
  },
  "vscode": {
   "interpreter": {
    "hash": "479cfa6a0e4d6b67f659792671305a6599ad5fba6f7b7520e37d475faaa1873f"
   }
  }
 },
 "nbformat": 4,
 "nbformat_minor": 2
}
