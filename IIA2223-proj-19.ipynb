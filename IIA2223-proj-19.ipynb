{
 "cells": [
  {
   "cell_type": "markdown",
   "metadata": {
    "colab_type": "text",
    "id": "LekFEsVbua_R"
   },
   "source": [
    "#  Jogo BreakThrough\n",
    "\n",
    "## Introdução à Inteligência Artificial edição 2022/23\n",
    "### Projeto para avaliação\n",
    "\n",
    "<img src=\".\\images\\Picture0.png\" alt=\"Drawing\" style=\"width: 200px;\"/>"
   ]
  },
  {
   "cell_type": "markdown",
   "metadata": {},
   "source": [
    "### Grupo: 19\n",
    "\n",
    "#### Elementos do Grupo\n",
    "\n",
    "Nome: João Gonçalo Santos\n",
    "\n",
    "Número: 57103\n",
    "\n",
    "Nome: Paulo Bolinhas\n",
    "\n",
    "Número: 56300\n",
    "\n",
    "Nome: Rui Martins\n",
    "\n",
    "Número: 56283"
   ]
  },
  {
   "cell_type": "markdown",
   "metadata": {},
   "source": [
    "## Introdução\n",
    "Este relatório foi realizado no âmbito da unidade curricular de Introdução à Inteligência Artificial e está inserido na área de aplicação de inteligência artificial no jogo proposto, BreakThrough. \n",
    "O relatório tem como objetivo apresentar a sequência dos passos realizados para a obtenção do produto final, mais concretamente, apresentar a formulação do problema em questão e seus respetivos testes, a criação do meio que permite, efetivamente, visualizar de forma sucinta o jogo (o tabuleiro), a criação de diferentes jogadores e jogos entre estes e, consequentemente, com base nos campeonatos simulados (sequência de jogos entre os diversos jogadores implementados), será apresentado o jogador final e a respetiva fundamentação."
   ]
  },
  {
   "cell_type": "markdown",
   "metadata": {},
   "source": [
    "## Formulação do Jogo BreakThrough em termos de estados e de operadores"
   ]
  },
  {
   "cell_type": "markdown",
   "metadata": {},
   "source": [
    "### Descrição da representação dos estados do jogo"
   ]
  },
  {
   "cell_type": "markdown",
   "metadata": {},
   "source": [
    "Foi implementado um estado (EstadoBT), de forma a representar as diferentes fases possíveis de jogo, abaixo a sua representação, em forma de código.\n",
    " - ```python namedtuple('EstadoBT', 'to_move, white, black')```\n",
    " \n",
    "O respetivo estado contém três atributos, dos quais to_move, white e black. Abaixo a descrição destes.\n",
    " - **to_move**: representa o próximo jogador a jogar. No início do jogo, to_move = 1. Quando o primeiro jogador realizar a sua jogada, to_move passará a ser igual a 2. Depois do jogador 2 realizar a sua jogada, to_move voltará a ser igual a 1, e assim sucessivamente.\n",
    " \n",
    " - **white**: representa a lista correspondente ao conjunto de coordenadas relativo à posição ocupada por peças brancas.\n",
    "\n",
    " - **black**: representa a lista correspondente ao conjunto de coordenadas relativo à posição ocupada por peças pretas.\n",
    "\n",
    "Cada posição do tabuleiro é representada pela string **coluna + linha** - exemplo: 'a1', 'a2'."
   ]
  },
  {
   "cell_type": "markdown",
   "metadata": {},
   "source": [
    "### Testes da formulação\n",
    "\n",
    "De forma a testar a formulação realizada, foram tidos em conta os testes realizados e disponibilizados pelos docentes (na página moodle da unidade curricular). Relativamente a estes, tanto os testes públicos, como os privados foram aprovados com sucesso. Abaixo, alguns dos testes.\n",
    "\n",
    "-\n",
    "-\n",
    "-\n"
   ]
  },
  {
   "cell_type": "markdown",
   "metadata": {},
   "source": [
    "#### Situações iniciais dos jogos\n",
    "Uso do construtor e \"display\" de jogos iniciais"
   ]
  },
  {
   "cell_type": "markdown",
   "metadata": {},
   "source": [
    "Construção de um novo jogo com a situação inicial seguinte:\n",
    "\n",
    "<img src=\".\\images\\Picture1.png\" alt=\"Drawing\" style=\"width: 150px;\"/>\n",
    "<p style=\"text-align: center;\">Figura 1</p>"
   ]
  },
  {
   "cell_type": "code",
   "execution_count": 1,
   "metadata": {},
   "outputs": [],
   "source": [
    "projTudo_19 = __import__(\"IIA2223-proj-tudo-19\")\n",
    "game = projTudo_19.JogoBT_19()"
   ]
  },
  {
   "cell_type": "markdown",
   "metadata": {},
   "source": [
    "Eis o display desse estado inicial do jogo:"
   ]
  },
  {
   "cell_type": "code",
   "execution_count": 2,
   "metadata": {},
   "outputs": [
    {
     "name": "stdout",
     "output_type": "stream",
     "text": [
      "-----------------\n",
      "8|B B B B B B B B\n",
      "7|B B B B B B B B\n",
      "6|. . . . . . . .\n",
      "5|. . . . . . . .\n",
      "4|. . . . . . . .\n",
      "3|. . . . . . . .\n",
      "2|W W W W W W W W\n",
      "1|W W W W W W W W\n",
      "-+---------------\n",
      " |a b c d e f g h\n",
      "--NEXT PLAYER: W\n"
     ]
    }
   ],
   "source": [
    "game.display(game.initial)"
   ]
  },
  {
   "cell_type": "markdown",
   "metadata": {},
   "source": [
    "## Jogos entre jogadores simples\n",
    "Nesta secção irão realizar alguns jogos, para verificar a modelização\n",
    "\n",
    "Inicialmente foram realizados jogos entre o jogador Bacoco (escolhe uma jogada, dentro das possíveis, aleatoriamente) e o Belarmino (jogador com função de avaliação descrita pelos docentes). Abaixo a respetiva criação do jogo."
   ]
  },
  {
   "cell_type": "code",
   "execution_count": 5,
   "metadata": {},
   "outputs": [
    {
     "name": "stdout",
     "output_type": "stream",
     "text": [
      "(('Bacoco', 'Belarmino'), ['b2-c3', 'c7-b6', 'd2-e3', 'b6-b5', 'g2-f3', 'b5-b4', 'c3-d4', 'b4-a3', 'c1-b2', 'a3-b2', 'g1-g2', 'b2-a1'], -1)\n"
     ]
    }
   ],
   "source": [
    "import random\n",
    "projTudo_19 = __import__(\"IIA2223-proj-tudo-19\")\n",
    "projJog_19 = __import__(\"IIA2223-proj-jog-19\")\n",
    "import jogar\n",
    "from jogos import alphabeta_cutoff_search_new\n",
    "\n",
    "bacoco = jogar.Jogador(\"Bacoco\", projJog_19.fa_bacoco)\n",
    "\n",
    "belarmino = jogar.Jogador(\"Belarmino\",\n",
    "                  lambda game, state:\n",
    "                  alphabeta_cutoff_search_new(state,game,0,eval_fn=projJog_19.fa_belarmino))\n",
    "\n",
    "game = projTudo_19.JogoBT_19()\n",
    "jogo1 = jogar.joga11(game, bacoco, belarmino)\n",
    "print(jogo1)"
   ]
  },
  {
   "cell_type": "markdown",
   "metadata": {},
   "source": [
    "Faça o display de um dos jogos realizados atrás"
   ]
  },
  {
   "cell_type": "code",
   "execution_count": 6,
   "metadata": {},
   "outputs": [
    {
     "name": "stdout",
     "output_type": "stream",
     "text": [
      "Bacoco vs Belarmino\n",
      "-----------------\n",
      "8|B B B B B B B B\n",
      "7|B B B B B B B B\n",
      "6|. . . . . . . .\n",
      "5|. . . . . . . .\n",
      "4|. . . . . . . .\n",
      "3|. . . . . . . .\n",
      "2|W W W W W W W W\n",
      "1|W W W W W W W W\n",
      "-+---------------\n",
      " |a b c d e f g h\n",
      "--NEXT PLAYER: W\n",
      "\n",
      "-->  b2-c3\n",
      "\n",
      "-----------------\n",
      "8|B B B B B B B B\n",
      "7|B B B B B B B B\n",
      "6|. . . . . . . .\n",
      "5|. . . . . . . .\n",
      "4|. . . . . . . .\n",
      "3|. . W . . . . .\n",
      "2|W . W W W W W W\n",
      "1|W W W W W W W W\n",
      "-+---------------\n",
      " |a b c d e f g h\n",
      "--NEXT PLAYER: B\n",
      "\n",
      "-->  c7-b6\n",
      "\n",
      "-----------------\n",
      "8|B B B B B B B B\n",
      "7|B B . B B B B B\n",
      "6|. B . . . . . .\n",
      "5|. . . . . . . .\n",
      "4|. . . . . . . .\n",
      "3|. . W . . . . .\n",
      "2|W . W W W W W W\n",
      "1|W W W W W W W W\n",
      "-+---------------\n",
      " |a b c d e f g h\n",
      "--NEXT PLAYER: W\n",
      "\n",
      "-->  d2-e3\n",
      "\n",
      "-----------------\n",
      "8|B B B B B B B B\n",
      "7|B B . B B B B B\n",
      "6|. B . . . . . .\n",
      "5|. . . . . . . .\n",
      "4|. . . . . . . .\n",
      "3|. . W . W . . .\n",
      "2|W . W . W W W W\n",
      "1|W W W W W W W W\n",
      "-+---------------\n",
      " |a b c d e f g h\n",
      "--NEXT PLAYER: B\n",
      "\n",
      "-->  b6-b5\n",
      "\n",
      "-----------------\n",
      "8|B B B B B B B B\n",
      "7|B B . B B B B B\n",
      "6|. . . . . . . .\n",
      "5|. B . . . . . .\n",
      "4|. . . . . . . .\n",
      "3|. . W . W . . .\n",
      "2|W . W . W W W W\n",
      "1|W W W W W W W W\n",
      "-+---------------\n",
      " |a b c d e f g h\n",
      "--NEXT PLAYER: W\n",
      "\n",
      "-->  g2-f3\n",
      "\n",
      "-----------------\n",
      "8|B B B B B B B B\n",
      "7|B B . B B B B B\n",
      "6|. . . . . . . .\n",
      "5|. B . . . . . .\n",
      "4|. . . . . . . .\n",
      "3|. . W . W W . .\n",
      "2|W . W . W W . W\n",
      "1|W W W W W W W W\n",
      "-+---------------\n",
      " |a b c d e f g h\n",
      "--NEXT PLAYER: B\n",
      "\n",
      "-->  b5-b4\n",
      "\n",
      "-----------------\n",
      "8|B B B B B B B B\n",
      "7|B B . B B B B B\n",
      "6|. . . . . . . .\n",
      "5|. . . . . . . .\n",
      "4|. B . . . . . .\n",
      "3|. . W . W W . .\n",
      "2|W . W . W W . W\n",
      "1|W W W W W W W W\n",
      "-+---------------\n",
      " |a b c d e f g h\n",
      "--NEXT PLAYER: W\n",
      "\n",
      "-->  c3-d4\n",
      "\n",
      "-----------------\n",
      "8|B B B B B B B B\n",
      "7|B B . B B B B B\n",
      "6|. . . . . . . .\n",
      "5|. . . . . . . .\n",
      "4|. B . W . . . .\n",
      "3|. . . . W W . .\n",
      "2|W . W . W W . W\n",
      "1|W W W W W W W W\n",
      "-+---------------\n",
      " |a b c d e f g h\n",
      "--NEXT PLAYER: B\n",
      "\n",
      "-->  b4-a3\n",
      "\n",
      "-----------------\n",
      "8|B B B B B B B B\n",
      "7|B B . B B B B B\n",
      "6|. . . . . . . .\n",
      "5|. . . . . . . .\n",
      "4|. . . W . . . .\n",
      "3|B . . . W W . .\n",
      "2|W . W . W W . W\n",
      "1|W W W W W W W W\n",
      "-+---------------\n",
      " |a b c d e f g h\n",
      "--NEXT PLAYER: W\n",
      "\n",
      "-->  c1-b2\n",
      "\n",
      "-----------------\n",
      "8|B B B B B B B B\n",
      "7|B B . B B B B B\n",
      "6|. . . . . . . .\n",
      "5|. . . . . . . .\n",
      "4|. . . W . . . .\n",
      "3|B . . . W W . .\n",
      "2|W W W . W W . W\n",
      "1|W W . W W W W W\n",
      "-+---------------\n",
      " |a b c d e f g h\n",
      "--NEXT PLAYER: B\n",
      "\n",
      "-->  a3-b2\n",
      "\n",
      "-----------------\n",
      "8|B B B B B B B B\n",
      "7|B B . B B B B B\n",
      "6|. . . . . . . .\n",
      "5|. . . . . . . .\n",
      "4|. . . W . . . .\n",
      "3|. . . . W W . .\n",
      "2|W B W . W W . W\n",
      "1|W W . W W W W W\n",
      "-+---------------\n",
      " |a b c d e f g h\n",
      "--NEXT PLAYER: W\n",
      "\n",
      "-->  g1-g2\n",
      "\n",
      "-----------------\n",
      "8|B B B B B B B B\n",
      "7|B B . B B B B B\n",
      "6|. . . . . . . .\n",
      "5|. . . . . . . .\n",
      "4|. . . W . . . .\n",
      "3|. . . . W W . .\n",
      "2|W B W . W W W W\n",
      "1|W W . W W W . W\n",
      "-+---------------\n",
      " |a b c d e f g h\n",
      "--NEXT PLAYER: B\n",
      "\n",
      "-->  b2-a1\n",
      "\n",
      "-----------------\n",
      "8|B B B B B B B B\n",
      "7|B B . B B B B B\n",
      "6|. . . . . . . .\n",
      "5|. . . . . . . .\n",
      "4|. . . W . . . .\n",
      "3|. . . . W W . .\n",
      "2|W . W . W W W W\n",
      "1|B W . W W W . W\n",
      "-+---------------\n",
      " |a b c d e f g h\n",
      "Ganham as Blacks\n"
     ]
    }
   ],
   "source": [
    "jogar.mostraJogo(game, jogo1, True)"
   ]
  },
  {
   "cell_type": "markdown",
   "metadata": {},
   "source": [
    "## Exemplos de jogadores alfabeta\n",
    " Relativamente à implementação de jogadores alfabeta, foi, inicialmente, implementado o jogador **BelarminoPlus**. Este jogador, ao contrário do Belarmino, **visa piorizar de forma máxima a jogada final**, ou seja, assim que haja a possibilidade de vencer o jogo, este ignora outras possíveis jogadas e finaliza-o. Mais, este jogador à semelhança do Belarmino, tende a priorizar as peças mais à frente, **a não ser que haja possibilidade de \"comer\" uma das peças do adversário numa posição do tabuleiro algo mais crítica** (nas últimas três linhas, direção adversário -> nosso jogador, por exemplo). Abaixo o seu código."
   ]
  },
  {
   "cell_type": "code",
   "execution_count": 7,
   "metadata": {},
   "outputs": [],
   "source": [
    "def fa_belarminoPlus(state, player):\n",
    "    score = 0\n",
    "    alphabet = [\"a\",\"b\",\"c\",\"d\",\"e\",\"f\",\"g\",\"h\"]\n",
    "\n",
    "    if player == 1:\n",
    "        piecesList = state.white\n",
    "    else:\n",
    "        piecesList = state.black\n",
    "    \n",
    "    for piece in piecesList:\n",
    "        if player == 1:\n",
    "            if piece[1] == '8':\n",
    "                score += 10\n",
    "                \n",
    "            if piece[1] == '6' or piece[1] == '7':\n",
    "                score += 6\n",
    "            \n",
    "            if piece[1] == '4' or piece[1] == '5':\n",
    "                score += 4\n",
    "        \n",
    "            for pieceBlack in state.black:\n",
    "                if pieceBlack[1] == '2' or pieceBlack[1] == '3' or pieceBlack[1] == '4':\n",
    "                    score -= 7\n",
    "                \n",
    "                if pieceBlack[1] == '5' or pieceBlack[1] == '6':\n",
    "                    score -= 4\n",
    "                \n",
    "        else:\n",
    "            if piece[1] == '1':\n",
    "                score += 10\n",
    "                \n",
    "            if piece[1] == '3' or piece[1] == '2':\n",
    "                score += 6\n",
    "            \n",
    "            if piece[1] == '5' or piece[1] == '4':\n",
    "                score += 4\n",
    "                \n",
    "            for pieceWhite in state.white:\n",
    "                if pieceWhite[1] == '7' or pieceWhite[1] == '6' or pieceWhite[1] == '5':\n",
    "                    score -= 7\n",
    "                \n",
    "                if pieceWhite[1] == '4' or pieceWhite[1] == '3':\n",
    "                    score -= 4\n",
    "    \n",
    "    return score"
   ]
  },
  {
   "cell_type": "markdown",
   "metadata": {},
   "source": [
    "Outro jogador alfabeta que foi implementado, trata-se do **Mediano**. Comparativamente ao jogador apresentado anteriormente, este difere em alguns sentidos, dos quais, este trabalha com **scores mais altos, de forma a garantir certas jogadas** e também foi acrescentada inteligência na medida em que não prioriza apenas as peças mais avançadas, mas sim **as peças mais avançadas que não o coloquem**, para uma profundidade 0, **em posição de ser comido** na jogada seguinte do adversário. Abaixo o respetivo código."
   ]
  },
  {
   "cell_type": "code",
   "execution_count": 12,
   "metadata": {},
   "outputs": [],
   "source": [
    "def fa_mediano(state, player):\n",
    "    score = 0\n",
    "    alphabet = [\"a\",\"b\",\"c\",\"d\",\"e\",\"f\",\"g\",\"h\"]\n",
    "\n",
    "    if player == 1:\n",
    "        piecesList = state.white\n",
    "    else:\n",
    "        piecesList = state.black\n",
    "    \n",
    "    for piece in piecesList:\n",
    "        if player == 1:\n",
    "            score += int(piece[1])*100000\n",
    "            \n",
    "            if piece[1] == '8':\n",
    "                score += 10000000\n",
    "                \n",
    "            if piece[1] == '6' or piece[1] == '7':\n",
    "                score += 700000\n",
    "            \n",
    "            if piece[1] == '4' or piece[1] == '5':\n",
    "                score += 400000\n",
    "        \n",
    "            for pieceBlack in state.black:\n",
    "                if pieceBlack[1] == '2' or pieceBlack[1] == '3' or pieceBlack[1] == '4':\n",
    "                    score -= 700000\n",
    "                \n",
    "                if pieceBlack[1] == '5' or pieceBlack[1] == '6':\n",
    "                    score -= 500000\n",
    "            \n",
    "            # caso 'a'\n",
    "            if piece[0] == 'a':\n",
    "                if (alphabet[alphabet.index(piece[0])+1] + str(int(piece[1])+1)) in state.black:\n",
    "                    score -= 400000\n",
    "            \n",
    "             # caso 'h'        \n",
    "            elif piece[0] == 'h':\n",
    "                if (alphabet[alphabet.index(piece[0])-1] + str(int(piece[1])+1)) in state.black:\n",
    "                    score -= 400000\n",
    "            \n",
    "            elif(piece[0] != 'a' and piece[0] != 'h'):\n",
    "                if (alphabet[alphabet.index(piece[0])-1] + str(int(piece[1])+1)) in state.black:\n",
    "                    score -= 400000\n",
    "                \n",
    "                if (alphabet[alphabet.index(piece[0])+1] + str(int(piece[1])+1)) in state.black:\n",
    "                    score -= 400000\n",
    "                \n",
    "        else:\n",
    "            score += int(piece[1])*100000\n",
    "            if piece[1] == '1':\n",
    "                score += 10000000\n",
    "                \n",
    "            if piece[1] == '3' or piece[1] == '2':\n",
    "                score += 700000\n",
    "            \n",
    "            if piece[1] == '5' or piece[1] == '4':\n",
    "                score += 400000\n",
    "                \n",
    "            for pieceWhite in state.white:\n",
    "                if pieceWhite[1] == '7' or pieceWhite[1] == '6' or pieceWhite[1] == '5':\n",
    "                    score -= 700000\n",
    "                \n",
    "                if pieceWhite[1] == '4' or pieceWhite[1] == '3':\n",
    "                    score -= 500000\n",
    "            \n",
    "            # caso 'a'\n",
    "            if piece[0] == 'a':\n",
    "                if (alphabet[alphabet.index(piece[0])+1] + str(int(piece[1])-1)) in state.white:\n",
    "                    score -= 400000\n",
    "            \n",
    "             # caso 'h'        \n",
    "            elif piece[0] == 'h':\n",
    "                if (alphabet[alphabet.index(piece[0])-1] + str(int(piece[1])-1)) in state.white:\n",
    "                    score -= 400000\n",
    "            \n",
    "            elif(piece[0] != 'a' and piece[0] != 'h'):\n",
    "                if (alphabet[alphabet.index(piece[0])-1] + str(int(piece[1])-1)) in state.white:\n",
    "                    score -= 400000\n",
    "                \n",
    "                if (alphabet[alphabet.index(piece[0])+1] + str(int(piece[1])-1)) in state.white:\n",
    "                    score -= 400000\n",
    "    \n",
    "    return score\n"
   ]
  },
  {
   "cell_type": "markdown",
   "metadata": {},
   "source": [
    "Por fim, foi implementado o jogador final. Este contém as características do jogador apresentado anteriormente, com a adição de condições que visam englobar mais possíveis situações de jogo. Primeiramente, foram, **de forma mais rigorosa, filtrados os scores consoante a posição**, mais atrasada ou mais adiantada, das peças, tanto para as nossas peças, como para as do adversário. Foi também **criada uma linha defensiva mais rigorosa**, esta visa garantir que, até dado momento de jogo, a última linha (mais atrás) mantém-se compacta, mais concretamente, a partir do momento em que 3 das peças mais defensivas já se moveram, as restantes tentarão permanecer na respetiva linha, de forma a não \"abrir\" totalmente o jogo para o adversário. Por último, de forma a garantir um melhor desempenho em maiores profundidades, foram verificados os casos -------- PAULETA TIME --------. Abaixo o respetivo código. "
   ]
  },
  {
   "cell_type": "code",
   "execution_count": 23,
   "metadata": {},
   "outputs": [],
   "source": [
    "def func_aval_19(state, player):\n",
    "    score = 0\n",
    "    alphabet = [\"a\",\"b\",\"c\",\"d\",\"e\",\"f\",\"g\",\"h\"]\n",
    "\n",
    "    if player == 1:\n",
    "        piecesList = state.white\n",
    "    else:\n",
    "        piecesList = state.black\n",
    "    \n",
    "    for piece in piecesList:\n",
    "        if player == 1:\n",
    "            score += int(piece[1])*100000\n",
    "            \n",
    "            if piece[1] == '8':\n",
    "                score += 10000000000\n",
    "                \n",
    "            if piece[1] == '7':\n",
    "                score += 900000\n",
    "\n",
    "            if piece[1] == '6':\n",
    "                score += 700000\n",
    "            \n",
    "            if piece[1] == '5':\n",
    "                score += 500000\n",
    "\n",
    "            if piece[1] == '4':\n",
    "                score += 300000\n",
    "        \n",
    "            for pieceBlack in state.black:\n",
    "                if pieceBlack[1] == '2':\n",
    "                    score -= 900000\n",
    "                \n",
    "                if pieceBlack[1] == '3':\n",
    "                    score -= 700000\n",
    "                \n",
    "                if pieceBlack[1] == '4':\n",
    "                    score -= 500000\n",
    "\n",
    "                if pieceBlack[1] == '5':\n",
    "                    score -= 300000\n",
    "\n",
    "                if pieceBlack[1] == '6':\n",
    "                    score -= 100000\n",
    "            \n",
    "            # linha defesa\n",
    "            nDef = 0\n",
    "            for elem in state.white:\n",
    "                if elem[1] == '1':\n",
    "                    nDef += 1\n",
    "            \n",
    "            if nDef < 6:\n",
    "                if (piece[1] == '2'):\n",
    "                    score -= 700000\n",
    "                 \n",
    "            \n",
    "             # caso 'a'\n",
    "            if piece[0] == 'a':\n",
    "                if (alphabet[alphabet.index(piece[0])+1] + str(int(piece[1])+1)) in state.black:\n",
    "                    score -= 700000\n",
    "                if ((alphabet[alphabet.index(piece[0])+2] + str(int(piece[1])+2)) in state.black and (alphabet[alphabet.index(piece[0])+1] + str(int(piece[1])+1) in state.white)\n",
    "                or (alphabet[alphabet.index(piece[0])] + str(int(piece[1])+2)) in state.black and (alphabet[alphabet.index(piece[0])+1] + str(int(piece[1])+1) in state.white)):\n",
    "                    score -= 600000\n",
    "            \n",
    "             # caso 'h'        \n",
    "            elif piece[0] == 'h':\n",
    "                if (alphabet[alphabet.index(piece[0])-1] + str(int(piece[1])+1)) in state.black:\n",
    "                    score -= 700000\n",
    "                if ((alphabet[alphabet.index(piece[0])-2] + str(int(piece[1])+2)) in state.black and (alphabet[alphabet.index(piece[0])-1] + str(int(piece[1])+1) in state.white)\n",
    "                or (alphabet[alphabet.index(piece[0])] + str(int(piece[1])+2)) in state.black and (alphabet[alphabet.index(piece[0])-1] + str(int(piece[1])+1) in state.white)):\n",
    "                    score -= 600000\n",
    "\n",
    "            if piece[0] == 'b':\n",
    "                if ((alphabet[alphabet.index(piece[0])+2] + str(int(piece[1])+2)) in state.black and (alphabet[alphabet.index(piece[0])+1] + str(int(piece[1])+1) in state.white)\n",
    "                or (alphabet[alphabet.index(piece[0])] + str(int(piece[1])+2)) in state.black and (alphabet[alphabet.index(piece[0])+1] + str(int(piece[1])+1) in state.white)\n",
    "                or (alphabet[alphabet.index(piece[0])] + str(int(piece[1])+2)) in state.black and (alphabet[alphabet.index(piece[0])-1] + str(int(piece[1])+1) in state.white)):                    \n",
    "                    score -= 600000\n",
    "            \n",
    "            if piece[0] == 'g':\n",
    "                if ((alphabet[alphabet.index(piece[0])-2] + str(int(piece[1])+2)) in state.black and (alphabet[alphabet.index(piece[0])-1] + str(int(piece[1])+1) in state.white)\n",
    "                or (alphabet[alphabet.index(piece[0])] + str(int(piece[1])+2)) in state.black and (alphabet[alphabet.index(piece[0])-1] + str(int(piece[1])+1) in state.white)\n",
    "                or (alphabet[alphabet.index(piece[0])] + str(int(piece[1])+2)) in state.black and (alphabet[alphabet.index(piece[0])+1] + str(int(piece[1])+1) in state.white)):                    \n",
    "                    score -= 600000\n",
    "            \n",
    "            elif(piece[0] != 'a' and piece[0] != 'h'):\n",
    "                if (alphabet[alphabet.index(piece[0])-1] + str(int(piece[1])+1)) in state.black:\n",
    "                    score -= 700000\n",
    "                \n",
    "                if (alphabet[alphabet.index(piece[0])+1] + str(int(piece[1])+1)) in state.black:\n",
    "                    score -= 700000\n",
    "\n",
    "                if(piece[0] != 'b' and piece[0] != 'g'):\n",
    "                    if ((alphabet[alphabet.index(piece[0])-2] + str(int(piece[1])+2)) in state.black and (alphabet[alphabet.index(piece[0])-1] + str(int(piece[1])+1) in state.white) \n",
    "                    or (alphabet[alphabet.index(piece[0])] + str(int(piece[1])+2)) in state.black and (alphabet[alphabet.index(piece[0])-1] + str(int(piece[1])+1) in state.white)\n",
    "                    or (alphabet[alphabet.index(piece[0])] + str(int(piece[1])+2)) in state.black and (alphabet[alphabet.index(piece[0])+1] + str(int(piece[1])+1) in state.white)\n",
    "                    or (alphabet[alphabet.index(piece[0])+2] + str(int(piece[1])+2)) in state.black and (alphabet[alphabet.index(piece[0])+1] + str(int(piece[1])+1) in state.white)):\n",
    "                        score -= 600000\n",
    "                \n",
    "        else:\n",
    "            score += int(piece[1])*100000\n",
    "            \n",
    "            if piece[1] == '1':\n",
    "                score += 10000000000\n",
    "                \n",
    "            if piece[1] == '2':\n",
    "                score += 900000\n",
    "\n",
    "            if piece[1] == '3':\n",
    "                score += 700000\n",
    "            \n",
    "            if piece[1] == '4':\n",
    "                score += 500000\n",
    "\n",
    "            if piece[1] == '5':\n",
    "                score += 300000\n",
    "        \n",
    "            for pieceWhite in state.white:\n",
    "                if pieceWhite[1] == '7':\n",
    "                    score -= 900000\n",
    "                \n",
    "                if pieceWhite[1] == '6':\n",
    "                    score -= 700000\n",
    "                \n",
    "                if pieceWhite[1] == '5':\n",
    "                    score -= 500000\n",
    "\n",
    "                if pieceWhite[1] == '4':\n",
    "                    score -= 300000\n",
    "\n",
    "                if pieceWhite[1] == '3':\n",
    "                    score -= 100000\n",
    "            \n",
    "            # linha defesa\n",
    "            nDef = 0\n",
    "            for elem in state.white:\n",
    "                if elem[1] == '8':\n",
    "                    nDef += 1\n",
    "            \n",
    "            if nDef < 6:\n",
    "                if (piece[1] == '7'):\n",
    "                    score -= 700000\n",
    "                \n",
    "            \n",
    "             # caso 'a'\n",
    "            if piece[0] == 'a':\n",
    "                if (alphabet[alphabet.index(piece[0])+1] + str(int(piece[1])-1)) in state.white:\n",
    "                    score -= 700000\n",
    "                if ((alphabet[alphabet.index(piece[0])+2] + str(int(piece[1])-2)) in state.white and (alphabet[alphabet.index(piece[0])+1] + str(int(piece[1])-1) in state.black)\n",
    "                or (alphabet[alphabet.index(piece[0])] + str(int(piece[1])-2)) in state.white and (alphabet[alphabet.index(piece[0])+1] + str(int(piece[1])-1) in state.black)):\n",
    "                    score -= 600000\n",
    "            \n",
    "             # caso 'h'        \n",
    "            elif piece[0] == 'h':\n",
    "                if (alphabet[alphabet.index(piece[0])-1] + str(int(piece[1])-1)) in state.white:\n",
    "                    score -= 700000\n",
    "                if ((alphabet[alphabet.index(piece[0])-2] + str(int(piece[1])-2)) in state.white and (alphabet[alphabet.index(piece[0])-1] + str(int(piece[1])-1) in state.black)\n",
    "                or (alphabet[alphabet.index(piece[0])] + str(int(piece[1])-2)) in state.white and (alphabet[alphabet.index(piece[0])-1] + str(int(piece[1])-1) in state.black)):\n",
    "                    score -= 600000\n",
    "\n",
    "            if piece[0] == 'b':\n",
    "                if ((alphabet[alphabet.index(piece[0])+2] + str(int(piece[1])-2)) in state.white and (alphabet[alphabet.index(piece[0])+1] + str(int(piece[1])-1) in state.black)\n",
    "                or (alphabet[alphabet.index(piece[0])] + str(int(piece[1])-2)) in state.white and (alphabet[alphabet.index(piece[0])+1] + str(int(piece[1])-1) in state.black)\n",
    "                or (alphabet[alphabet.index(piece[0])] + str(int(piece[1])-2)) in state.white and (alphabet[alphabet.index(piece[0])-1] + str(int(piece[1])-1) in state.black)):                    \n",
    "                    score -= 600000\n",
    "            \n",
    "            if piece[0] == 'g':\n",
    "                if ((alphabet[alphabet.index(piece[0])-2] + str(int(piece[1])-2)) in state.white and (alphabet[alphabet.index(piece[0])-1] + str(int(piece[1])-1) in state.black)\n",
    "                or (alphabet[alphabet.index(piece[0])] + str(int(piece[1])-2)) in state.white and (alphabet[alphabet.index(piece[0])-1] + str(int(piece[1])-1) in state.black)\n",
    "                or (alphabet[alphabet.index(piece[0])] + str(int(piece[1])-2)) in state.white and (alphabet[alphabet.index(piece[0])+1] + str(int(piece[1])-1) in state.black)):                    \n",
    "                    score -= 600000\n",
    "            \n",
    "            elif(piece[0] != 'a' and piece[0] != 'h'):\n",
    "                if (alphabet[alphabet.index(piece[0])-1] + str(int(piece[1])-1)) in state.white:\n",
    "                    score -= 700000\n",
    "                \n",
    "                if (alphabet[alphabet.index(piece[0])+1] + str(int(piece[1])-1)) in state.white:\n",
    "                    score -= 700000\n",
    "\n",
    "                if(piece[0] != 'b' and piece[0] != 'g'):\n",
    "                    if ((alphabet[alphabet.index(piece[0])-2] + str(int(piece[1])-2)) in state.white and (alphabet[alphabet.index(piece[0])-1] + str(int(piece[1])-1) in state.black) \n",
    "                    or (alphabet[alphabet.index(piece[0])] + str(int(piece[1])-2)) in state.white and (alphabet[alphabet.index(piece[0])-1] + str(int(piece[1])-1) in state.black)\n",
    "                    or (alphabet[alphabet.index(piece[0])] + str(int(piece[1])-2)) in state.white and (alphabet[alphabet.index(piece[0])+1] + str(int(piece[1])-1) in state.black)\n",
    "                    or (alphabet[alphabet.index(piece[0])+2] + str(int(piece[1])-2)) in state.white and (alphabet[alphabet.index(piece[0])+1] + str(int(piece[1])-1) in state.black)):\n",
    "                        score -= 600000\n",
    "                \n",
    "    return score"
   ]
  },
  {
   "cell_type": "markdown",
   "metadata": {},
   "source": [
    "## Exemplos de jogos entre alguns desses jogadores e o Belarmino"
   ]
  },
  {
   "cell_type": "markdown",
   "metadata": {},
   "source": [
    "Para primeiro exemplo, fica, desde já, a implementação do Belarmino e o respetivo jogo entre este e o segundo jogador implementado (BelarminoPlus). Jogo realizado com profundidade 0 - **Belarmino vs BelarminoPlus**"
   ]
  },
  {
   "cell_type": "code",
   "execution_count": 26,
   "metadata": {},
   "outputs": [
    {
     "name": "stdout",
     "output_type": "stream",
     "text": [
      "1 Belarmino BelarminoPlus --vencedor= BelarminoPlus\n",
      "2 BelarminoPlus Belarmino --vencedor= BelarminoPlus\n",
      "JOGADOR VITÓRIAS\n",
      "BelarminoPlus    2\n",
      "Belarmino      0\n"
     ]
    }
   ],
   "source": [
    "def fa_belarmino(state, player):\n",
    "    score = 0\n",
    "    if player == 1:\n",
    "        piecesList = state.white\n",
    "    else:\n",
    "        piecesList = state.black\n",
    "    \n",
    "    for piece in piecesList:\n",
    "        if player == 1:\n",
    "            score += int(piece[1])**int(piece[1])\n",
    "        else:\n",
    "            score += (9-int(piece[1]))**(9-int(piece[1]))\n",
    "    \n",
    "    return score\n",
    "\n",
    "belarmino = jogar.Jogador(\"Belarmino\",\n",
    "                  lambda game, state:\n",
    "                  alphabeta_cutoff_search_new(state,game,0,eval_fn=fa_belarmino))\n",
    "\n",
    "belarminoPlus = jogar.Jogador(\"BelarminoPlus\",\n",
    "                  lambda game, state:\n",
    "                  alphabeta_cutoff_search_new(state,game,0,eval_fn=fa_belarminoPlus))\n",
    "\n",
    "todosJog = [belarmino, belarminoPlus]\n",
    "campeonato = jogar.faz_campeonato(game, todosJog, nsec=10)\n",
    "\n",
    "\n",
    "# --- Caso queira ver o respetivo comportamento de um jogo ---\n",
    "\n",
    "# jogo1 = jogar.joga11(game, belarmino, belarminoPlus)\n",
    "# print(jogo1)\n",
    "    \n",
    "# jogar.mostraJogo(game, jogo1)\n",
    "\n",
    "# jogar.mostraJogo(game, jogo1, True)"
   ]
  },
  {
   "cell_type": "markdown",
   "metadata": {},
   "source": [
    "Agora, ainda com profundidade 0, é apresentado o jogo entre os jogadores **Belarmino e Mediano**."
   ]
  },
  {
   "cell_type": "code",
   "execution_count": 27,
   "metadata": {},
   "outputs": [
    {
     "name": "stdout",
     "output_type": "stream",
     "text": [
      "1 Belarmino Mediano --vencedor= Mediano\n",
      "2 Mediano Belarmino --vencedor= Mediano\n",
      "JOGADOR VITÓRIAS\n",
      "Mediano        2\n",
      "Belarmino      0\n"
     ]
    }
   ],
   "source": [
    "mediano = jogar.Jogador(\"Mediano\",\n",
    "                  lambda game, state:\n",
    "                  alphabeta_cutoff_search_new(state,game,0,eval_fn=fa_mediano))\n",
    "\n",
    "todosJog = [belarmino, mediano]\n",
    "campeonato = jogar.faz_campeonato(game, todosJog, nsec=10)\n",
    "\n",
    "# --- Caso queira ver o respetivo comportamento de um jogo ---\n",
    "\n",
    "# jogo1 = jogar.joga11(game, belarmino, mediano)\n",
    "# print(jogo1)\n",
    "    \n",
    "# jogar.mostraJogo(game, jogo1)\n",
    "\n",
    "# jogar.mostraJogo(game, jogo1, True)"
   ]
  },
  {
   "cell_type": "markdown",
   "metadata": {},
   "source": [
    "De forma a aumentar da profundidade é agora apresentado um jogo entre o **Belarmino e o jogador final**. Abaixo o respetivo jogo para profundidade igual a 1."
   ]
  },
  {
   "cell_type": "code",
   "execution_count": 30,
   "metadata": {},
   "outputs": [
    {
     "name": "stdout",
     "output_type": "stream",
     "text": [
      "1 Belarmino JogadorFinal --vencedor= JogadorFinal\n",
      "2 JogadorFinal Belarmino --vencedor= JogadorFinal\n",
      "JOGADOR VITÓRIAS\n",
      "JogadorFinal    2\n",
      "Belarmino      0\n"
     ]
    }
   ],
   "source": [
    "#Belarmino - profundidade 1\n",
    "belarmino = jogar.Jogador(\"Belarmino\",\n",
    "                  lambda game, state:\n",
    "                  alphabeta_cutoff_search_new(state,game,1,eval_fn=fa_belarmino))\n",
    "\n",
    "jogadorFinal = jogar.Jogador(\"JogadorFinal\",\n",
    "                  lambda game, state:\n",
    "                  alphabeta_cutoff_search_new(state,game,1,eval_fn=func_aval_19))\n",
    "\n",
    "todosJog = [belarmino, jogadorFinal]\n",
    "campeonato = jogar.faz_campeonato(game, todosJog, nsec=10)\n",
    "\n",
    "# --- Caso queira ver o respetivo comportamento de um jogo ---\n",
    "\n",
    "# jogo1 = jogar.joga11(game, belarmino, jogadorFinal)\n",
    "# print(jogo1)\n",
    "    \n",
    "# jogar.mostraJogo(game, jogo1)\n",
    "\n",
    "# jogar.mostraJogo(game, jogo1, True)"
   ]
  },
  {
   "cell_type": "markdown",
   "metadata": {},
   "source": [
    "## Exemplos de jogos entre dois dos vários jogadores desenvolvidos"
   ]
  },
  {
   "cell_type": "markdown",
   "metadata": {},
   "source": [
    "Descartando o jogador Bacoco, uma vez que não se trata de um jogador minimamente consistente, nem sequer alfabeta, temos, inicialmente, a apresentação dos jogos entre os primeiros dois jogadores implementados, mais precisamente, **BelarminoPlus vs Mediano**.\n",
    "\n",
    "Para profundidade 0, abaixo o jogo."
   ]
  },
  {
   "cell_type": "code",
   "execution_count": 31,
   "metadata": {},
   "outputs": [
    {
     "name": "stdout",
     "output_type": "stream",
     "text": [
      "1 BelarminoPlus Mediano --vencedor= Mediano\n",
      "2 Mediano BelarminoPlus --vencedor= Mediano\n",
      "JOGADOR VITÓRIAS\n",
      "Mediano        2\n",
      "BelarminoPlus    0\n"
     ]
    }
   ],
   "source": [
    "belarminoPlus = jogar.Jogador(\"BelarminoPlus\",\n",
    "                  lambda game, state:\n",
    "                  alphabeta_cutoff_search_new(state,game,0,eval_fn=fa_belarminoPlus))\n",
    "\n",
    "\n",
    "mediano = jogar.Jogador(\"Mediano\",\n",
    "                  lambda game, state:\n",
    "                  alphabeta_cutoff_search_new(state,game,0,eval_fn=fa_mediano))\n",
    "\n",
    "todosJog = [belarminoPlus, mediano]\n",
    "campeonato = jogar.faz_campeonato(game, todosJog, nsec=10)\n",
    "\n",
    "# --- Caso queira ver o respetivo comportamento de um jogo ---\n",
    "\n",
    "# jogo1 = jogar.joga11(game, belarminoPlus, mediano)\n",
    "# print(jogo1)\n",
    "    \n",
    "# jogar.mostraJogo(game, jogo1)\n",
    "\n",
    "# jogar.mostraJogo(game, jogo1, True)"
   ]
  },
  {
   "cell_type": "markdown",
   "metadata": {},
   "source": [
    "Abaixo, jogo entre os mesmos jogadores, mas com profundidade 1."
   ]
  },
  {
   "cell_type": "code",
   "execution_count": 32,
   "metadata": {},
   "outputs": [
    {
     "name": "stdout",
     "output_type": "stream",
     "text": [
      "1 BelarminoPlus Mediano --vencedor= Mediano\n",
      "2 Mediano BelarminoPlus --vencedor= Mediano\n",
      "JOGADOR VITÓRIAS\n",
      "Mediano        2\n",
      "BelarminoPlus    0\n"
     ]
    }
   ],
   "source": [
    "belarminoPlus = jogar.Jogador(\"BelarminoPlus\",\n",
    "                  lambda game, state:\n",
    "                  alphabeta_cutoff_search_new(state,game,1,eval_fn=fa_belarminoPlus))\n",
    "\n",
    "\n",
    "mediano = jogar.Jogador(\"Mediano\",\n",
    "                  lambda game, state:\n",
    "                  alphabeta_cutoff_search_new(state,game,1,eval_fn=fa_mediano))\n",
    "\n",
    "todosJog = [belarminoPlus, mediano]\n",
    "campeonato = jogar.faz_campeonato(game, todosJog, nsec=10)\n",
    "\n",
    "# --- Caso queira ver o respetivo comportamento de um jogo ---\n",
    "\n",
    "# jogo1 = jogar.joga11(game, belarminoPlus, mediano)\n",
    "# print(jogo1)\n",
    "    \n",
    "# jogar.mostraJogo(game, jogo1)\n",
    "\n",
    "# jogar.mostraJogo(game, jogo1, True)"
   ]
  },
  {
   "cell_type": "markdown",
   "metadata": {},
   "source": [
    "Por fim, o jogador Mediano vs JogadorFinal, para diferentes profundidades. Abaixo a respetiva apresentação dos resultados.\n",
    "\n",
    "Profundidade 0:"
   ]
  },
  {
   "cell_type": "code",
   "execution_count": 42,
   "metadata": {},
   "outputs": [
    {
     "name": "stdout",
     "output_type": "stream",
     "text": [
      "1 Mediano JogadorFinal --vencedor= JogadorFinal\n",
      "2 JogadorFinal Mediano --vencedor= JogadorFinal\n",
      "JOGADOR VITÓRIAS\n",
      "JogadorFinal    2\n",
      "Mediano        0\n"
     ]
    }
   ],
   "source": [
    "mediano = jogar.Jogador(\"Mediano\",\n",
    "                  lambda game, state:\n",
    "                  alphabeta_cutoff_search_new(state,game,0,eval_fn=fa_mediano))\n",
    "\n",
    "jogadorFinal = jogar.Jogador(\"JogadorFinal\",\n",
    "                  lambda game, state:\n",
    "                  alphabeta_cutoff_search_new(state,game,0,eval_fn=func_aval_19))\n",
    "\n",
    "todosJog = [mediano, jogadorFinal]\n",
    "campeonato = jogar.faz_campeonato(game, todosJog, nsec=10)"
   ]
  },
  {
   "cell_type": "markdown",
   "metadata": {},
   "source": [
    "Para profundidade 1:"
   ]
  },
  {
   "cell_type": "code",
   "execution_count": 43,
   "metadata": {},
   "outputs": [
    {
     "name": "stdout",
     "output_type": "stream",
     "text": [
      "1 Mediano JogadorFinal --vencedor= JogadorFinal\n",
      "2 JogadorFinal Mediano --vencedor= Mediano\n",
      "JOGADOR VITÓRIAS\n",
      "Mediano        1\n",
      "JogadorFinal    1\n"
     ]
    }
   ],
   "source": [
    "mediano = jogar.Jogador(\"Mediano\",\n",
    "                  lambda game, state:\n",
    "                  alphabeta_cutoff_search_new(state,game,1,eval_fn=fa_mediano))\n",
    "\n",
    "jogadorFinal = jogar.Jogador(\"JogadorFinal\",\n",
    "                  lambda game, state:\n",
    "                  alphabeta_cutoff_search_new(state,game,1,eval_fn=func_aval_19))\n",
    "\n",
    "todosJog = [mediano, jogadorFinal]\n",
    "campeonato = jogar.faz_campeonato(game, todosJog, nsec=10)"
   ]
  },
  {
   "cell_type": "markdown",
   "metadata": {},
   "source": [
    "## Processo de selecção dos jogadores para o torneio\n",
    "Descreva o processo de selecção dos jogadores campeões, para entrar no campeonato \"todos contra todos\".\n",
    "\n"
   ]
  },
  {
   "cell_type": "markdown",
   "metadata": {},
   "source": [
    "*...aqui* \n",
    "\n",
    "<span style=\"color:magenta\"> É a parte mais importante do relatório, justificando porque convocaram o vosso Ronaldo para o campeonato. Se jogaram com vários jogadores (ou seja, várias funções de avaliação) e fizeram um torneio privado de selecção, podem apresentar aqui uma tabela com esses dados. </span>"
   ]
  },
  {
   "cell_type": "code",
   "execution_count": null,
   "metadata": {},
   "outputs": [],
   "source": []
  }
 ],
 "metadata": {
  "colab": {
   "collapsed_sections": [],
   "name": "Untitled0.ipynb",
   "provenance": [],
   "version": "0.3.2"
  },
  "kernelspec": {
   "display_name": "Python 3.10.8 64-bit (microsoft store)",
   "language": "python",
   "name": "python3"
  },
  "language_info": {
   "codemirror_mode": {
    "name": "ipython",
    "version": 3
   },
   "file_extension": ".py",
   "mimetype": "text/x-python",
   "name": "python",
   "nbconvert_exporter": "python",
   "pygments_lexer": "ipython3",
   "version": "3.10.8"
  },
  "vscode": {
   "interpreter": {
    "hash": "479cfa6a0e4d6b67f659792671305a6599ad5fba6f7b7520e37d475faaa1873f"
   }
  }
 },
 "nbformat": 4,
 "nbformat_minor": 2
}
